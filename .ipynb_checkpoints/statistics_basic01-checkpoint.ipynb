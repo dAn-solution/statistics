{
 "cells": [
  {
   "cell_type": "markdown",
   "metadata": {},
   "source": [
    "## 【データサイエンス入門:統計編②】\n",
    "### 代表値とは(実は色々ある平均の種類)"
   ]
  },
  {
   "cell_type": "code",
   "execution_count": 1,
   "metadata": {},
   "outputs": [
    {
     "data": {
      "text/plain": [
       "303.2"
      ]
     },
     "execution_count": 1,
     "metadata": {},
     "output_type": "execute_result"
    }
   ],
   "source": [
    "# 算術平均\n",
    "import numpy as np\n",
    "apple_weights = [295, 300, 300, 310, 311]\n",
    "np.mean(apple_weights)"
   ]
  },
  {
   "cell_type": "code",
   "execution_count": 2,
   "metadata": {},
   "outputs": [
    {
     "name": "stdout",
     "output_type": "stream",
     "text": [
      "1.1450956868476592\n"
     ]
    }
   ],
   "source": [
    "# 幾何平均\n",
    "from scipy import stats\n",
    "salary_growth = [1.05, 1.1, 1.3]\n",
    "salary_growth_mean = stats.gmean(salary_growth)\n",
    "print(salary_growth_mean)"
   ]
  },
  {
   "cell_type": "code",
   "execution_count": 4,
   "metadata": {},
   "outputs": [
    {
     "name": "stdout",
     "output_type": "stream",
     "text": [
      "30.0\n"
     ]
    }
   ],
   "source": [
    "# 調和平均\n",
    "velocities = [20, 60]\n",
    "velocities_mean = stats.hmean(velocities)\n",
    "print(velocities_mean)"
   ]
  },
  {
   "cell_type": "code",
   "execution_count": 6,
   "metadata": {},
   "outputs": [
    {
     "name": "stdout",
     "output_type": "stream",
     "text": [
      "[-8.2 -3.2 -3.2  6.8  7.8]\n",
      "5.684341886080802e-14\n"
     ]
    }
   ],
   "source": [
    "# 算術平均の性質\n",
    "# 算術平均からの差の合計は常にzero\n",
    "apple_weights = np.array([295, 300, 300, 310, 311])\n",
    "apple_weights_mean = np.mean(apple_weights)\n",
    "deviations = apple_weights - apple_weights_mean\n",
    "print(deviations)\n",
    "print(deviations.sum())"
   ]
  },
  {
   "cell_type": "markdown",
   "metadata": {},
   "source": [
    "## 【データサイエンス入門:統計編③】\n",
    "### 代表値(中央値と最頻値のポイント)"
   ]
  },
  {
   "cell_type": "code",
   "execution_count": 11,
   "metadata": {},
   "outputs": [
    {
     "name": "stdout",
     "output_type": "stream",
     "text": [
      "mean is -4.900148576891348e-05(time:0.02s)\n",
      "median is -0.00010370476371438539(time]0.56s)\n"
     ]
    }
   ],
   "source": [
    "# 平均よりも中央値の算出には時間がかかる\n",
    "import numpy as np\n",
    "import time\n",
    "# 標準正規分布からランダムで値を抽出\n",
    "randoms = np.random.randn(10**7)\n",
    "# 計算前の時間（sec）\n",
    "before_mean = time.time()\n",
    "# 平均を計算\n",
    "mean = np.mean(randoms)\n",
    "# 平均計算後の時間（sec）\n",
    "after_mean = time.time()\n",
    "# {:.2f}は小数点第二位まで表示\n",
    "print(\"mean is {}(time:{:.2f}s)\".format(mean, after_mean - before_mean))\n",
    "# 計算前の時間（sec）\n",
    "before_median = time.time()\n",
    "# 中央値を計算\n",
    "median = np.median(randoms)\n",
    "# 計算後の時間（sec）\n",
    "after_median = time.time()\n",
    "print(\"median is {}(time]{:.2f}s)\".format(median, after_median - before_median))"
   ]
  },
  {
   "cell_type": "code",
   "execution_count": 12,
   "metadata": {},
   "outputs": [
    {
     "name": "stdout",
     "output_type": "stream",
     "text": [
      "[3]\n",
      "[2]\n"
     ]
    }
   ],
   "source": [
    "# 最頻値の取得\n",
    "from scipy import stats\n",
    "# 最頻値とその数を返す\n",
    "mode, count = stats.mode([6, 2, 4, 5, 1, 3, 5, 3, 4])\n",
    "# ２つの最頻値があれば小さい方を返す\n",
    "print(mode)\n",
    "print(count)"
   ]
  },
  {
   "cell_type": "code",
   "execution_count": 13,
   "metadata": {},
   "outputs": [
    {
     "name": "stdout",
     "output_type": "stream",
     "text": [
      "[[1 2 3 1]]\n",
      "[[1 2 2 1]]\n"
     ]
    }
   ],
   "source": [
    "# axis=0で列単位で最頻値を検索する\n",
    "array = np.array([[1, 5, 3, 2],\n",
    "                  [4, 1, 3, 4],\n",
    "                  [7, 2, 1, 5],\n",
    "                  [5, 2, 4, 1]])\n",
    "mode, count = stats.mode(array, axis=0)\n",
    "print(mode)\n",
    "print(count)"
   ]
  },
  {
   "cell_type": "code",
   "execution_count": 15,
   "metadata": {},
   "outputs": [
    {
     "name": "stdout",
     "output_type": "stream",
     "text": [
      "[[1]\n",
      " [4]\n",
      " [1]\n",
      " [1]]\n",
      "[[1]\n",
      " [2]\n",
      " [1]\n",
      " [1]]\n"
     ]
    }
   ],
   "source": [
    "# axis=1で行単位で最頻値を検索する\n",
    "array = np.array([[1, 5, 3, 2],\n",
    "                  [4, 1, 3, 4],\n",
    "                  [7, 2, 1, 5],\n",
    "                  [5, 2, 4, 1]])\n",
    "mode, count = stats.mode(array, axis=1)\n",
    "print(mode)\n",
    "print(count)"
   ]
  },
  {
   "cell_type": "code",
   "execution_count": null,
   "metadata": {},
   "outputs": [],
   "source": []
  }
 ],
 "metadata": {
  "kernelspec": {
   "display_name": "Python 3",
   "language": "python",
   "name": "python3"
  },
  "language_info": {
   "codemirror_mode": {
    "name": "ipython",
    "version": 3
   },
   "file_extension": ".py",
   "mimetype": "text/x-python",
   "name": "python",
   "nbconvert_exporter": "python",
   "pygments_lexer": "ipython3",
   "version": "3.7.4"
  }
 },
 "nbformat": 4,
 "nbformat_minor": 4
}
